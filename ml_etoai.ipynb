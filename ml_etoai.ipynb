{
 "cells": [
  {
   "cell_type": "markdown",
   "id": "67f4a42e-957a-49d0-99df-bb0064c7abcf",
   "metadata": {},
   "source": [
    "Решаем задачу генерации текстов (задач) для менеджеров в CRM на онове анализа диалогов между менеджерми и клиентами.\n",
    "При решении испльзовались локальные языковые модели sberbank-ai/rugpt3large_based_on_gpt2 и от Hugging Face EleutherAI/gpt-j-6B \n",
    "и EleutherAI/gpt-neox-20b. Лучшие результаты показала sberbank-ai/rugpt3large_based_on_gpt2"
   ]
  },
  {
   "cell_type": "code",
   "execution_count": 2,
   "id": "61a9ecf7-06e7-47fd-9b07-8589cd1322d1",
   "metadata": {},
   "outputs": [
    {
     "name": "stderr",
     "output_type": "stream",
     "text": [
      "[nltk_data] Downloading package punkt to C:\\Users\\losev-\n",
      "[nltk_data]     ml\\AppData\\Roaming\\nltk_data...\n",
      "[nltk_data]   Package punkt is already up-to-date!\n",
      "[nltk_data] Downloading package punkt_tab to C:\\Users\\losev-\n",
      "[nltk_data]     ml\\AppData\\Roaming\\nltk_data...\n",
      "[nltk_data]   Package punkt_tab is already up-to-date!\n"
     ]
    },
    {
     "data": {
      "text/plain": [
       "True"
      ]
     },
     "execution_count": 2,
     "metadata": {},
     "output_type": "execute_result"
    }
   ],
   "source": [
    "import numpy as np\n",
    "import pandas as pd\n",
    "import re\n",
    "import nltk\n",
    "from transformers import pipeline\n",
    "\n",
    "nltk.download('punkt')\n",
    "nltk.download('punkt_tab')"
   ]
  },
  {
   "cell_type": "code",
   "execution_count": 3,
   "id": "5b00afe8-4f86-4542-bc9a-3e77feee2a2e",
   "metadata": {},
   "outputs": [
    {
     "name": "stdout",
     "output_type": "stream",
     "text": [
      "(3, 3)\n"
     ]
    },
    {
     "data": {
      "text/html": [
       "<div>\n",
       "<style scoped>\n",
       "    .dataframe tbody tr th:only-of-type {\n",
       "        vertical-align: middle;\n",
       "    }\n",
       "\n",
       "    .dataframe tbody tr th {\n",
       "        vertical-align: top;\n",
       "    }\n",
       "\n",
       "    .dataframe thead th {\n",
       "        text-align: right;\n",
       "    }\n",
       "</style>\n",
       "<table border=\"1\" class=\"dataframe\">\n",
       "  <thead>\n",
       "    <tr style=\"text-align: right;\">\n",
       "      <th></th>\n",
       "      <th>dialog_id</th>\n",
       "      <th>dialog_text</th>\n",
       "      <th>dialog_date</th>\n",
       "    </tr>\n",
       "  </thead>\n",
       "  <tbody>\n",
       "    <tr>\n",
       "      <th>0</th>\n",
       "      <td>1</td>\n",
       "      <td>[02.04.2024 19:23:00]Менеджер: Добрый день!! [...</td>\n",
       "      <td>02.04.2024</td>\n",
       "    </tr>\n",
       "    <tr>\n",
       "      <th>1</th>\n",
       "      <td>2</td>\n",
       "      <td>[21.04.2024 19:23:00] Менеджер: Здравствуйте, ...</td>\n",
       "      <td>21.04.2024</td>\n",
       "    </tr>\n",
       "    <tr>\n",
       "      <th>2</th>\n",
       "      <td>3</td>\n",
       "      <td>*** [02.03.2024 20:23:00]Клиент: Я ищу информа...</td>\n",
       "      <td>02.03.2024</td>\n",
       "    </tr>\n",
       "  </tbody>\n",
       "</table>\n",
       "</div>"
      ],
      "text/plain": [
       "   dialog_id                                        dialog_text dialog_date\n",
       "0          1  [02.04.2024 19:23:00]Менеджер: Добрый день!! [...  02.04.2024\n",
       "1          2  [21.04.2024 19:23:00] Менеджер: Здравствуйте, ...  21.04.2024\n",
       "2          3  *** [02.03.2024 20:23:00]Клиент: Я ищу информа...  02.03.2024"
      ]
     },
     "execution_count": 3,
     "metadata": {},
     "output_type": "execute_result"
    }
   ],
   "source": [
    "# Загрузка  и предобработка данных\n",
    "url = 'https://docs.google.com/spreadsheets/d/1kxoGhGT-e_jPaFJ4Po7giixzFzogLowDBDi_C2pbvME/export?format=csv'\n",
    "data = pd.read_csv(url)\n",
    "print (data.shape)\n",
    "data.head()"
   ]
  },
  {
   "cell_type": "code",
   "execution_count": 4,
   "id": "42a2332c-8d9e-4e33-a3f1-1f6cd0cc667f",
   "metadata": {},
   "outputs": [],
   "source": [
    "# Функция очистки текста\n",
    "def clean_text(text):\n",
    "    text = re.sub(r'\\[\\d{2}\\.\\d{2}\\.\\d{4} \\d{2}:\\d{2}:\\d{2}\\]', '', text)\n",
    "    text = re.sub(r'http\\S+|www\\S+|https\\S+', '', text, flags=re.MULTILINE)\n",
    "    text = re.sub(r'[^\\w\\s,.!?–—–“”«»]', '', text)\n",
    "    text = re.sub(r'\\b\\d+\\b', '', text)\n",
    "    text = re.sub(r'([!?.])\\1+', r'\\1', text)\n",
    "    text = re.sub(r'[!?]{2,}', '', text)\n",
    "    text = re.sub(r'\\s+', ' ', text).strip()\n",
    "    text = text.lower()\n",
    "    if text and text[-1] not in '.!?':\n",
    "        text += '.'\n",
    "    return text"
   ]
  },
  {
   "cell_type": "code",
   "execution_count": 5,
   "id": "078039b0-b8d4-457d-bfe7-7fb6954cb3bf",
   "metadata": {},
   "outputs": [],
   "source": [
    "# применение функции очистки к столбцу dialog_text\n",
    "data['cleaned_dialog_text'] = data['dialog_text'].apply(clean_text)\n"
   ]
  },
  {
   "cell_type": "code",
   "execution_count": 6,
   "id": "627482cc-eb1c-45b1-9a66-7ecfd9b70a3c",
   "metadata": {},
   "outputs": [
    {
     "name": "stdout",
     "output_type": "stream",
     "text": [
      "WARNING:tensorflow:From C:\\Users\\losev-ml\\AppData\\Roaming\\Python\\Python312\\site-packages\\tf_keras\\src\\losses.py:2976: The name tf.losses.sparse_softmax_cross_entropy is deprecated. Please use tf.compat.v1.losses.sparse_softmax_cross_entropy instead.\n",
      "\n"
     ]
    }
   ],
   "source": [
    "# тут используем модель sberbank-ai/rugpt3large_based_on_gpt2 вместо OpenAI API\n",
    "model = pipeline('text-generation', model='sberbank-ai/rugpt3large_based_on_gpt2')"
   ]
  },
  {
   "cell_type": "code",
   "execution_count": 27,
   "id": "61ce7e6e-35ac-47e7-b8e1-9bcc083125a1",
   "metadata": {},
   "outputs": [],
   "source": [
    "# Функция для генерации Задач \n",
    "def generate_tasks(dialogs):\n",
    "    prompts = []\n",
    "    for dialog in dialogs:\n",
    "        prompt = (\n",
    "            f\"На основе диалога сгенерируйте одну конкретную и измеримую задачу для менеджера из реальных данных диалога\"\n",
    "            # f\"Задача должна быть четкой конкретной и полезной\"\n",
    "            # f\"Обратите внимание на контекст и детали диалога\"\n",
    "            f\":\\n\\n{dialog}\\n\\n\"\n",
    "            f\"Задача:\"\n",
    "        )\n",
    "        prompts.append(prompt)\n",
    "\n",
    "    results = []\n",
    "    for prompt in prompts:\n",
    "        # Генерируем ответ\n",
    "        result = model(prompt, max_length=150, num_return_sequences=1, truncation=True)\n",
    "        # Получаем сгенерированный текст\n",
    "        generated_text = result[0]['generated_text']\n",
    "        # Извлекаем задачу\n",
    "        task_start = generated_text.lower().find(\"задача:\")\n",
    "        if task_start != -1:\n",
    "            # Получаем текст задачи\n",
    "            task_text = generated_text[task_start + len(\"задача:\"):].strip()\n",
    "            results.append(task_text)\n",
    "        else:\n",
    "            results.append(\"Задача не создана.\")\n",
    "\n",
    "    return results"
   ]
  },
  {
   "cell_type": "code",
   "execution_count": 19,
   "id": "d21c6490-8528-490d-93df-551916af1667",
   "metadata": {},
   "outputs": [],
   "source": [
    "# Функция для удаления дубликатов Задач \n",
    "def remove_duplicate(tasks):\n",
    "    unique_tasks = []\n",
    "    for task in tasks:\n",
    "        # разделяем задачи на отдельные пункты \n",
    "        task_items = [item.strip() for item in task.split('\\n') if item.strip()]\n",
    "        # убираем номера пунктов задач\n",
    "        task_items = [re.sub(r'^\\d+\\.\\s*', '', item) for item in task_items]\n",
    "        # убираем дубликаты задач\n",
    "        unique_items = list(set(task_items))\n",
    "        # собираем обратно в строку\n",
    "        unique_task = '\\n'.join(unique_items)\n",
    "        unique_tasks.append(unique_task)\n",
    "    return unique_tasks"
   ]
  },
  {
   "cell_type": "code",
   "execution_count": 28,
   "id": "f0996fee-eb24-49de-9e85-b60793b97799",
   "metadata": {},
   "outputs": [
    {
     "name": "stdout",
     "output_type": "stream",
     "text": [
      "Диалог: менеджер добрый день! клиент здравствуйте! хотел бы узнать о новой акции. менеджер конечно, у нас есть отличное предложение!\n",
      "Задача: Узнать, когда будет.\n",
      "Узнать, когда будет\n",
      "Узнать, сколько стоит.\n",
      "Узнать, что за акция.\n",
      "Узнать, когда закончится.\n",
      "\n",
      "Диалог: менеджер здравствуйте, чем могу помочь? клиент я хотел бы отменить свой заказ. менеджер хорошо, я помогу вам с этим!\n",
      "Задача: Узнать, что клиент хочет получить в результате выполнения заказа.\n",
      "Узнать, что клиент хочет получить в\n",
      "\n",
      "Диалог: клиент я ищу информацию о вашем продукте. менеджер конечно! вот ссылка на наш сайт.\n",
      "Задача: Какие данные вы хотите\n",
      "найти информацию о вашем продукте.\n",
      "Какие данные вы хотите получить?\n",
      "\n"
     ]
    }
   ],
   "source": [
    "# применяем функцию к данным cleaned_dialog_text\n",
    "data['generated_tasks'] = generate_tasks(data['cleaned_dialog_text'])\n",
    "# удаляем дубликаты задач\n",
    "data['generated_tasks'] = remove_duplicate(data['generated_tasks'])\n",
    "\n",
    "for i in range(len(data)):\n",
    "    print(f\"Диалог: {data['cleaned_dialog_text'].iloc[i]}\")\n",
    "    print(f\"Задача: {data['generated_tasks'].iloc[i]}\\n\")"
   ]
  },
  {
   "cell_type": "markdown",
   "id": "2d0a5022-6dbd-4c92-823c-0818c355c35d",
   "metadata": {},
   "source": [
    "Тут для получения различных вариантов задач для менеджеров необходимо подбирать варианты значений pront и проводить оценку результатов.\n"
   ]
  },
  {
   "cell_type": "code",
   "execution_count": null,
   "id": "f845449f-de5e-4496-a5f3-6c658fcc3f87",
   "metadata": {},
   "outputs": [],
   "source": []
  }
 ],
 "metadata": {
  "kernelspec": {
   "display_name": "Python 3 (ipykernel)",
   "language": "python",
   "name": "python3"
  },
  "language_info": {
   "codemirror_mode": {
    "name": "ipython",
    "version": 3
   },
   "file_extension": ".py",
   "mimetype": "text/x-python",
   "name": "python",
   "nbconvert_exporter": "python",
   "pygments_lexer": "ipython3",
   "version": "3.12.7"
  }
 },
 "nbformat": 4,
 "nbformat_minor": 5
}
